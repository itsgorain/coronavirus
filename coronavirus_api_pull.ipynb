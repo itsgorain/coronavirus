{
 "cells": [
  {
   "cell_type": "code",
   "execution_count": 1,
   "metadata": {},
   "outputs": [],
   "source": [
    "import pandas as pd\n",
    "import matplotlib.pyplot as plt\n",
    "import seaborn as sns\n",
    "\n",
    "import warnings\n",
    "warnings.filterwarnings('ignore')"
   ]
  },
  {
   "cell_type": "code",
   "execution_count": 2,
   "metadata": {},
   "outputs": [],
   "source": [
    "def build_master_df(data, label):\n",
    "    frames = {}\n",
    "    list_of_dfs = []\n",
    "\n",
    "    for i in range(len(data['locations'])):\n",
    "        coordinates = str(data['locations'][i]['coordinates'])\n",
    "        country = data['locations'][i]['country']\n",
    "        country_code = data['locations'][i]['country_code']\n",
    "        province = data['locations'][i]['province']\n",
    "        history = data['locations'][i]['history']\n",
    "        df = pd.DataFrame(history, index=[0]).T\n",
    "        df.reset_index(inplace=True)\n",
    "        df.columns = ['date', 'count']\n",
    "        df['date'] = pd.to_datetime(df['date'])\n",
    "        df['country'] = country\n",
    "        df['coordinates'] = coordinates\n",
    "        df['country_code'] = country_code\n",
    "        df['province'] = province\n",
    "\n",
    "        country_key = country + '_' + str(i) # they key is never referenced elsewhere... just for building dict of df\n",
    "        frames[country_key] = df # add to dict of dfs\n",
    "        \n",
    "    for key in frames.keys():\n",
    "        list_of_dfs.append(frames[key]) # this needs to be key, not country key, IMPORTANT\n",
    "\n",
    "    master_df = pd.concat(list_of_dfs)\n",
    "    master_df = master_df.reset_index(drop=True)\n",
    "    master_df['data_type'] = label\n",
    "\n",
    "    return master_df"
   ]
  },
  {
   "cell_type": "code",
   "execution_count": 3,
   "metadata": {},
   "outputs": [],
   "source": [
    "api_url = 'https://coronavirus-tracker-api.herokuapp.com/all'"
   ]
  },
  {
   "cell_type": "code",
   "execution_count": 4,
   "metadata": {},
   "outputs": [],
   "source": [
    "json_data = pd.read_json(api_url)"
   ]
  },
  {
   "cell_type": "code",
   "execution_count": 5,
   "metadata": {},
   "outputs": [],
   "source": [
    "confirmed_data = json_data['confirmed']\n",
    "death_data = json_data['deaths']\n",
    "recovered_data = json_data['recovered']\n",
    "\n",
    "full_confirmed_df = build_master_df(confirmed_data, 'confirmed')\n",
    "full_death_df = build_master_df(death_data, 'death')\n",
    "full_recovered_df = build_master_df(recovered_data, 'recovered')\n",
    "\n",
    "full_df = pd.concat([full_confirmed_df, full_death_df, full_recovered_df])\n",
    "full_df.reset_index(drop=True, inplace=True)"
   ]
  },
  {
   "cell_type": "code",
   "execution_count": 30,
   "metadata": {},
   "outputs": [
    {
     "data": {
      "text/plain": [
       "Timestamp('2020-03-14 00:00:00')"
      ]
     },
     "execution_count": 30,
     "metadata": {},
     "output_type": "execute_result"
    }
   ],
   "source": [
    "full_df['date'].max() # last update was less than 24h ago"
   ]
  },
  {
   "cell_type": "code",
   "execution_count": 27,
   "metadata": {},
   "outputs": [
    {
     "data": {
      "text/html": [
       "<div>\n",
       "<style scoped>\n",
       "    .dataframe tbody tr th:only-of-type {\n",
       "        vertical-align: middle;\n",
       "    }\n",
       "\n",
       "    .dataframe tbody tr th {\n",
       "        vertical-align: top;\n",
       "    }\n",
       "\n",
       "    .dataframe thead th {\n",
       "        text-align: right;\n",
       "    }\n",
       "</style>\n",
       "<table border=\"1\" class=\"dataframe\">\n",
       "  <thead>\n",
       "    <tr style=\"text-align: right;\">\n",
       "      <th></th>\n",
       "      <th>date</th>\n",
       "      <th>count</th>\n",
       "      <th>country</th>\n",
       "      <th>coordinates</th>\n",
       "      <th>country_code</th>\n",
       "      <th>province</th>\n",
       "      <th>data_type</th>\n",
       "    </tr>\n",
       "  </thead>\n",
       "  <tbody>\n",
       "    <tr>\n",
       "      <th>0</th>\n",
       "      <td>2020-01-22</td>\n",
       "      <td>2</td>\n",
       "      <td>Thailand</td>\n",
       "      <td>{'lat': '15', 'long': '101'}</td>\n",
       "      <td>TH</td>\n",
       "      <td></td>\n",
       "      <td>confirmed</td>\n",
       "    </tr>\n",
       "    <tr>\n",
       "      <th>1</th>\n",
       "      <td>2020-01-23</td>\n",
       "      <td>3</td>\n",
       "      <td>Thailand</td>\n",
       "      <td>{'lat': '15', 'long': '101'}</td>\n",
       "      <td>TH</td>\n",
       "      <td></td>\n",
       "      <td>confirmed</td>\n",
       "    </tr>\n",
       "    <tr>\n",
       "      <th>2</th>\n",
       "      <td>2020-01-24</td>\n",
       "      <td>5</td>\n",
       "      <td>Thailand</td>\n",
       "      <td>{'lat': '15', 'long': '101'}</td>\n",
       "      <td>TH</td>\n",
       "      <td></td>\n",
       "      <td>confirmed</td>\n",
       "    </tr>\n",
       "    <tr>\n",
       "      <th>3</th>\n",
       "      <td>2020-01-25</td>\n",
       "      <td>7</td>\n",
       "      <td>Thailand</td>\n",
       "      <td>{'lat': '15', 'long': '101'}</td>\n",
       "      <td>TH</td>\n",
       "      <td></td>\n",
       "      <td>confirmed</td>\n",
       "    </tr>\n",
       "    <tr>\n",
       "      <th>4</th>\n",
       "      <td>2020-01-26</td>\n",
       "      <td>8</td>\n",
       "      <td>Thailand</td>\n",
       "      <td>{'lat': '15', 'long': '101'}</td>\n",
       "      <td>TH</td>\n",
       "      <td></td>\n",
       "      <td>confirmed</td>\n",
       "    </tr>\n",
       "  </tbody>\n",
       "</table>\n",
       "</div>"
      ],
      "text/plain": [
       "        date  count   country                   coordinates country_code  \\\n",
       "0 2020-01-22      2  Thailand  {'lat': '15', 'long': '101'}           TH   \n",
       "1 2020-01-23      3  Thailand  {'lat': '15', 'long': '101'}           TH   \n",
       "2 2020-01-24      5  Thailand  {'lat': '15', 'long': '101'}           TH   \n",
       "3 2020-01-25      7  Thailand  {'lat': '15', 'long': '101'}           TH   \n",
       "4 2020-01-26      8  Thailand  {'lat': '15', 'long': '101'}           TH   \n",
       "\n",
       "  province  data_type  \n",
       "0           confirmed  \n",
       "1           confirmed  \n",
       "2           confirmed  \n",
       "3           confirmed  \n",
       "4           confirmed  "
      ]
     },
     "execution_count": 27,
     "metadata": {},
     "output_type": "execute_result"
    }
   ],
   "source": [
    "# this is the full dataframe, with confirmed/death/recovered data all together\n",
    "# this is best for analyzing individual provinces/cities, where available.\n",
    "\n",
    "full_df.head()"
   ]
  },
  {
   "cell_type": "code",
   "execution_count": 28,
   "metadata": {},
   "outputs": [
    {
     "data": {
      "text/plain": [
       "US             39114\n",
       "China           5247\n",
       "Australia       1431\n",
       "Canada          1272\n",
       "France           795\n",
       "               ...  \n",
       "Cruise Ship      159\n",
       "Turkey           159\n",
       "Aruba            159\n",
       "Kazakhstan       159\n",
       "Lithuania        159\n",
       "Name: country, Length: 143, dtype: int64"
      ]
     },
     "execution_count": 28,
     "metadata": {},
     "output_type": "execute_result"
    }
   ],
   "source": [
    "full_df['country'].value_counts()"
   ]
  },
  {
   "cell_type": "code",
   "execution_count": 29,
   "metadata": {},
   "outputs": [
    {
     "data": {
      "text/plain": [
       "                       21465\n",
       "Grand Princess           318\n",
       "Diamond Princess         318\n",
       "New Jersey               159\n",
       "West Virginia            159\n",
       "                       ...  \n",
       "Fresno County, CA        159\n",
       "Arkansas                 159\n",
       "Henan                    159\n",
       "St Martin                159\n",
       "Delaware County, PA      159\n",
       "Name: province, Length: 306, dtype: int64"
      ]
     },
     "execution_count": 29,
     "metadata": {},
     "output_type": "execute_result"
    }
   ],
   "source": [
    "# most data does not come with province/city, so it is null\n",
    "\n",
    "full_df['province'].value_counts()"
   ]
  },
  {
   "cell_type": "code",
   "execution_count": 7,
   "metadata": {},
   "outputs": [
    {
     "data": {
      "text/html": [
       "<div>\n",
       "<style scoped>\n",
       "    .dataframe tbody tr th:only-of-type {\n",
       "        vertical-align: middle;\n",
       "    }\n",
       "\n",
       "    .dataframe tbody tr th {\n",
       "        vertical-align: top;\n",
       "    }\n",
       "\n",
       "    .dataframe thead th {\n",
       "        text-align: right;\n",
       "    }\n",
       "</style>\n",
       "<table border=\"1\" class=\"dataframe\">\n",
       "  <thead>\n",
       "    <tr style=\"text-align: right;\">\n",
       "      <th></th>\n",
       "      <th>date</th>\n",
       "      <th>country</th>\n",
       "      <th>data_type</th>\n",
       "      <th>count</th>\n",
       "    </tr>\n",
       "  </thead>\n",
       "  <tbody>\n",
       "    <tr>\n",
       "      <th>0</th>\n",
       "      <td>2020-01-22</td>\n",
       "      <td>Afghanistan</td>\n",
       "      <td>confirmed</td>\n",
       "      <td>0</td>\n",
       "    </tr>\n",
       "    <tr>\n",
       "      <th>1</th>\n",
       "      <td>2020-01-22</td>\n",
       "      <td>Afghanistan</td>\n",
       "      <td>death</td>\n",
       "      <td>0</td>\n",
       "    </tr>\n",
       "    <tr>\n",
       "      <th>2</th>\n",
       "      <td>2020-01-22</td>\n",
       "      <td>Afghanistan</td>\n",
       "      <td>recovered</td>\n",
       "      <td>0</td>\n",
       "    </tr>\n",
       "    <tr>\n",
       "      <th>3</th>\n",
       "      <td>2020-01-22</td>\n",
       "      <td>Albania</td>\n",
       "      <td>confirmed</td>\n",
       "      <td>0</td>\n",
       "    </tr>\n",
       "    <tr>\n",
       "      <th>4</th>\n",
       "      <td>2020-01-22</td>\n",
       "      <td>Albania</td>\n",
       "      <td>death</td>\n",
       "      <td>0</td>\n",
       "    </tr>\n",
       "  </tbody>\n",
       "</table>\n",
       "</div>"
      ],
      "text/plain": [
       "        date      country  data_type  count\n",
       "0 2020-01-22  Afghanistan  confirmed      0\n",
       "1 2020-01-22  Afghanistan      death      0\n",
       "2 2020-01-22  Afghanistan  recovered      0\n",
       "3 2020-01-22      Albania  confirmed      0\n",
       "4 2020-01-22      Albania      death      0"
      ]
     },
     "execution_count": 7,
     "metadata": {},
     "output_type": "execute_result"
    }
   ],
   "source": [
    "# slim df is just full_df but with the countries aggregated. i wanted to see aggregations by country, not province\n",
    "\n",
    "slim_full_df = full_df[['date', 'count', 'country', 'data_type']]\n",
    "slim_full_df = slim_full_df.groupby(['date', 'country', 'data_type']).sum().reset_index()\n",
    "slim_full_df.head()"
   ]
  },
  {
   "cell_type": "code",
   "execution_count": 8,
   "metadata": {},
   "outputs": [],
   "source": [
    "# this builds a summary dataframe w/ confirmed counts, death rates, recovery rates, etc\n",
    "\n",
    "countries = []\n",
    "confirmed_counts = []\n",
    "death_counts = []\n",
    "death_rates = []\n",
    "recovered_counts = []\n",
    "recovered_rates = []\n",
    "\n",
    "for country in sorted(slim_full_df['country'].unique()):\n",
    "\n",
    "    lookup_df = slim_full_df[slim_full_df['country'] == country]\n",
    "    lookup_df = lookup_df[lookup_df['date'] == lookup_df['date'].max()]\n",
    "    lookup_df = lookup_df[['data_type', 'count']].set_index('data_type')\n",
    "\n",
    "    total = lookup_df.sum()[0]\n",
    "    pct = lookup_df['count'] / int(lookup_df.loc['confirmed']['count'])\n",
    "    lookup_df['pct'] = round(pct, 4)\n",
    "\n",
    "    confirmed_count = int(lookup_df.loc['confirmed']['count'])\n",
    "    death_count = int(lookup_df.loc['death']['count'])\n",
    "    death_rate = lookup_df.loc['death']['pct']\n",
    "    recovered_count = int(lookup_df.loc['recovered']['count'])\n",
    "    recovered_rate = lookup_df.loc['recovered']['pct']\n",
    "\n",
    "    countries.append(country)\n",
    "    confirmed_counts.append(confirmed_count)\n",
    "    death_counts.append(death_count)\n",
    "    death_rates.append(death_rate)\n",
    "    recovered_counts.append(recovered_count)\n",
    "    recovered_rates.append(recovered_rate)\n",
    "\n",
    "summary_df = pd.DataFrame({'country': countries, 'confirmed_count': confirmed_counts, \n",
    "              'death_count': death_counts, 'death_rate': death_rates,\n",
    "             'recovered_count': recovered_counts, 'recovered_rate': recovered_rates,\n",
    "             })\n",
    "\n",
    "summary_df.set_index('country', inplace=True)"
   ]
  },
  {
   "cell_type": "code",
   "execution_count": 9,
   "metadata": {},
   "outputs": [
    {
     "data": {
      "text/html": [
       "<div>\n",
       "<style scoped>\n",
       "    .dataframe tbody tr th:only-of-type {\n",
       "        vertical-align: middle;\n",
       "    }\n",
       "\n",
       "    .dataframe tbody tr th {\n",
       "        vertical-align: top;\n",
       "    }\n",
       "\n",
       "    .dataframe thead th {\n",
       "        text-align: right;\n",
       "    }\n",
       "</style>\n",
       "<table border=\"1\" class=\"dataframe\">\n",
       "  <thead>\n",
       "    <tr style=\"text-align: right;\">\n",
       "      <th></th>\n",
       "      <th>confirmed_count</th>\n",
       "      <th>death_count</th>\n",
       "      <th>death_rate</th>\n",
       "      <th>recovered_count</th>\n",
       "      <th>recovered_rate</th>\n",
       "    </tr>\n",
       "    <tr>\n",
       "      <th>country</th>\n",
       "      <th></th>\n",
       "      <th></th>\n",
       "      <th></th>\n",
       "      <th></th>\n",
       "      <th></th>\n",
       "    </tr>\n",
       "  </thead>\n",
       "  <tbody>\n",
       "    <tr>\n",
       "      <th>Afghanistan</th>\n",
       "      <td>11</td>\n",
       "      <td>0</td>\n",
       "      <td>0.0000</td>\n",
       "      <td>0</td>\n",
       "      <td>0.0000</td>\n",
       "    </tr>\n",
       "    <tr>\n",
       "      <th>Albania</th>\n",
       "      <td>38</td>\n",
       "      <td>1</td>\n",
       "      <td>0.0263</td>\n",
       "      <td>0</td>\n",
       "      <td>0.0000</td>\n",
       "    </tr>\n",
       "    <tr>\n",
       "      <th>Algeria</th>\n",
       "      <td>37</td>\n",
       "      <td>3</td>\n",
       "      <td>0.0811</td>\n",
       "      <td>12</td>\n",
       "      <td>0.3243</td>\n",
       "    </tr>\n",
       "    <tr>\n",
       "      <th>Andorra</th>\n",
       "      <td>1</td>\n",
       "      <td>0</td>\n",
       "      <td>0.0000</td>\n",
       "      <td>1</td>\n",
       "      <td>1.0000</td>\n",
       "    </tr>\n",
       "    <tr>\n",
       "      <th>Antigua and Barbuda</th>\n",
       "      <td>1</td>\n",
       "      <td>0</td>\n",
       "      <td>0.0000</td>\n",
       "      <td>0</td>\n",
       "      <td>0.0000</td>\n",
       "    </tr>\n",
       "  </tbody>\n",
       "</table>\n",
       "</div>"
      ],
      "text/plain": [
       "                     confirmed_count  death_count  death_rate  \\\n",
       "country                                                         \n",
       "Afghanistan                       11            0      0.0000   \n",
       "Albania                           38            1      0.0263   \n",
       "Algeria                           37            3      0.0811   \n",
       "Andorra                            1            0      0.0000   \n",
       "Antigua and Barbuda                1            0      0.0000   \n",
       "\n",
       "                     recovered_count  recovered_rate  \n",
       "country                                               \n",
       "Afghanistan                        0          0.0000  \n",
       "Albania                            0          0.0000  \n",
       "Algeria                           12          0.3243  \n",
       "Andorra                            1          1.0000  \n",
       "Antigua and Barbuda                0          0.0000  "
      ]
     },
     "execution_count": 9,
     "metadata": {},
     "output_type": "execute_result"
    }
   ],
   "source": [
    "summary_df.head()"
   ]
  },
  {
   "cell_type": "code",
   "execution_count": 10,
   "metadata": {},
   "outputs": [
    {
     "data": {
      "text/plain": [
       "<matplotlib.axes._subplots.AxesSubplot at 0x22ff6094c88>"
      ]
     },
     "execution_count": 10,
     "metadata": {},
     "output_type": "execute_result"
    },
    {
     "data": {
      "image/png": "[encoded data removed]",
      "text/plain": [
       "<Figure size 432x720 with 1 Axes>"
      ]
     },
     "metadata": {
      "needs_background": "light"
     },
     "output_type": "display_data"
    }
   ],
   "source": [
    "summary_df['death_rate'].sort_values()[-30:].plot.barh(figsize=(6, 10))"
   ]
  },
  {
   "cell_type": "code",
   "execution_count": 11,
   "metadata": {},
   "outputs": [
    {
     "data": {
      "text/plain": [
       "country\n",
       "Egypt                             0.0183\n",
       "United Kingdom                    0.0184\n",
       "Taiwan*                           0.0189\n",
       "India                             0.0196\n",
       "Luxembourg                        0.0196\n",
       "US                                0.0198\n",
       "France                            0.0203\n",
       "Albania                           0.0263\n",
       "Panama                            0.0278\n",
       "Japan                             0.0285\n",
       "Poland                            0.0291\n",
       "Spain                             0.0305\n",
       "Lebanon                           0.0323\n",
       "China                             0.0394\n",
       "Iran                              0.0480\n",
       "Bulgaria                          0.0488\n",
       "Indonesia                         0.0521\n",
       "Morocco                           0.0588\n",
       "Argentina                         0.0588\n",
       "San Marino                        0.0625\n",
       "Azerbaijan                        0.0667\n",
       "Italy                             0.0681\n",
       "Ecuador                           0.0714\n",
       "Philippines                       0.0721\n",
       "Algeria                           0.0811\n",
       "Iraq                              0.0909\n",
       "Ukraine                           0.3333\n",
       "Sudan                             1.0000\n",
       "Guyana                            1.0000\n",
       "occupied Palestinian territory       NaN\n",
       "Name: death_rate, dtype: float64"
      ]
     },
     "execution_count": 11,
     "metadata": {},
     "output_type": "execute_result"
    }
   ],
   "source": [
    "summary_df['death_rate'].sort_values()[-30:]"
   ]
  },
  {
   "cell_type": "code",
   "execution_count": 12,
   "metadata": {},
   "outputs": [
    {
     "data": {
      "text/plain": [
       "confirmed_count    2727.0000\n",
       "death_count          54.0000\n",
       "death_rate            0.0198\n",
       "recovered_count      12.0000\n",
       "recovered_rate        0.0044\n",
       "Name: US, dtype: float64"
      ]
     },
     "execution_count": 12,
     "metadata": {},
     "output_type": "execute_result"
    }
   ],
   "source": [
    "summary_df.loc['US']"
   ]
  },
  {
   "cell_type": "code",
   "execution_count": 13,
   "metadata": {},
   "outputs": [
    {
     "data": {
      "text/plain": [
       "confirmed_count    80977.0000\n",
       "death_count         3193.0000\n",
       "death_rate             0.0394\n",
       "recovered_count    65660.0000\n",
       "recovered_rate         0.8108\n",
       "Name: China, dtype: float64"
      ]
     },
     "execution_count": 13,
     "metadata": {},
     "output_type": "execute_result"
    }
   ],
   "source": [
    "summary_df.loc['China']"
   ]
  },
  {
   "cell_type": "code",
   "execution_count": 14,
   "metadata": {},
   "outputs": [
    {
     "data": {
      "text/plain": [
       "0.024345454545454545"
      ]
     },
     "execution_count": 14,
     "metadata": {},
     "output_type": "execute_result"
    }
   ],
   "source": [
    "# i wanted to see how the confirmed count affects the death rate\n",
    "\n",
    "min_confirms = 1000\n",
    "\n",
    "summary_df[summary_df['confirmed_count'] > min_confirms]['death_rate'].mean()"
   ]
  },
  {
   "cell_type": "code",
   "execution_count": 15,
   "metadata": {},
   "outputs": [
    {
     "data": {
      "text/plain": [
       "0.0198"
      ]
     },
     "execution_count": 15,
     "metadata": {},
     "output_type": "execute_result"
    }
   ],
   "source": [
    "summary_df[summary_df['confirmed_count'] > min_confirms]['death_rate'].median()"
   ]
  },
  {
   "cell_type": "code",
   "execution_count": 16,
   "metadata": {},
   "outputs": [
    {
     "data": {
      "text/html": [
       "<div>\n",
       "<style scoped>\n",
       "    .dataframe tbody tr th:only-of-type {\n",
       "        vertical-align: middle;\n",
       "    }\n",
       "\n",
       "    .dataframe tbody tr th {\n",
       "        vertical-align: top;\n",
       "    }\n",
       "\n",
       "    .dataframe thead th {\n",
       "        text-align: right;\n",
       "    }\n",
       "</style>\n",
       "<table border=\"1\" class=\"dataframe\">\n",
       "  <thead>\n",
       "    <tr style=\"text-align: right;\">\n",
       "      <th></th>\n",
       "      <th>confirmed_count</th>\n",
       "      <th>death_count</th>\n",
       "      <th>death_rate</th>\n",
       "      <th>recovered_count</th>\n",
       "      <th>recovered_rate</th>\n",
       "    </tr>\n",
       "    <tr>\n",
       "      <th>country</th>\n",
       "      <th></th>\n",
       "      <th></th>\n",
       "      <th></th>\n",
       "      <th></th>\n",
       "      <th></th>\n",
       "    </tr>\n",
       "  </thead>\n",
       "  <tbody>\n",
       "    <tr>\n",
       "      <th>China</th>\n",
       "      <td>80977</td>\n",
       "      <td>3193</td>\n",
       "      <td>0.0394</td>\n",
       "      <td>65660</td>\n",
       "      <td>0.8108</td>\n",
       "    </tr>\n",
       "    <tr>\n",
       "      <th>Italy</th>\n",
       "      <td>21157</td>\n",
       "      <td>1441</td>\n",
       "      <td>0.0681</td>\n",
       "      <td>1966</td>\n",
       "      <td>0.0929</td>\n",
       "    </tr>\n",
       "    <tr>\n",
       "      <th>Iran</th>\n",
       "      <td>12729</td>\n",
       "      <td>611</td>\n",
       "      <td>0.0480</td>\n",
       "      <td>2959</td>\n",
       "      <td>0.2325</td>\n",
       "    </tr>\n",
       "    <tr>\n",
       "      <th>Korea, South</th>\n",
       "      <td>8086</td>\n",
       "      <td>72</td>\n",
       "      <td>0.0089</td>\n",
       "      <td>510</td>\n",
       "      <td>0.0631</td>\n",
       "    </tr>\n",
       "    <tr>\n",
       "      <th>Spain</th>\n",
       "      <td>6391</td>\n",
       "      <td>195</td>\n",
       "      <td>0.0305</td>\n",
       "      <td>517</td>\n",
       "      <td>0.0809</td>\n",
       "    </tr>\n",
       "    <tr>\n",
       "      <th>Germany</th>\n",
       "      <td>4585</td>\n",
       "      <td>9</td>\n",
       "      <td>0.0020</td>\n",
       "      <td>46</td>\n",
       "      <td>0.0100</td>\n",
       "    </tr>\n",
       "    <tr>\n",
       "      <th>France</th>\n",
       "      <td>4480</td>\n",
       "      <td>91</td>\n",
       "      <td>0.0203</td>\n",
       "      <td>12</td>\n",
       "      <td>0.0027</td>\n",
       "    </tr>\n",
       "    <tr>\n",
       "      <th>US</th>\n",
       "      <td>2727</td>\n",
       "      <td>54</td>\n",
       "      <td>0.0198</td>\n",
       "      <td>12</td>\n",
       "      <td>0.0044</td>\n",
       "    </tr>\n",
       "    <tr>\n",
       "      <th>Switzerland</th>\n",
       "      <td>1359</td>\n",
       "      <td>13</td>\n",
       "      <td>0.0096</td>\n",
       "      <td>4</td>\n",
       "      <td>0.0029</td>\n",
       "    </tr>\n",
       "    <tr>\n",
       "      <th>United Kingdom</th>\n",
       "      <td>1143</td>\n",
       "      <td>21</td>\n",
       "      <td>0.0184</td>\n",
       "      <td>19</td>\n",
       "      <td>0.0166</td>\n",
       "    </tr>\n",
       "    <tr>\n",
       "      <th>Norway</th>\n",
       "      <td>1090</td>\n",
       "      <td>3</td>\n",
       "      <td>0.0028</td>\n",
       "      <td>1</td>\n",
       "      <td>0.0009</td>\n",
       "    </tr>\n",
       "    <tr>\n",
       "      <th>Sweden</th>\n",
       "      <td>961</td>\n",
       "      <td>2</td>\n",
       "      <td>0.0021</td>\n",
       "      <td>1</td>\n",
       "      <td>0.0010</td>\n",
       "    </tr>\n",
       "    <tr>\n",
       "      <th>Netherlands</th>\n",
       "      <td>959</td>\n",
       "      <td>12</td>\n",
       "      <td>0.0125</td>\n",
       "      <td>2</td>\n",
       "      <td>0.0021</td>\n",
       "    </tr>\n",
       "    <tr>\n",
       "      <th>Denmark</th>\n",
       "      <td>836</td>\n",
       "      <td>1</td>\n",
       "      <td>0.0012</td>\n",
       "      <td>1</td>\n",
       "      <td>0.0012</td>\n",
       "    </tr>\n",
       "    <tr>\n",
       "      <th>Japan</th>\n",
       "      <td>773</td>\n",
       "      <td>22</td>\n",
       "      <td>0.0285</td>\n",
       "      <td>118</td>\n",
       "      <td>0.1527</td>\n",
       "    </tr>\n",
       "    <tr>\n",
       "      <th>Cruise Ship</th>\n",
       "      <td>696</td>\n",
       "      <td>7</td>\n",
       "      <td>0.0101</td>\n",
       "      <td>325</td>\n",
       "      <td>0.4670</td>\n",
       "    </tr>\n",
       "    <tr>\n",
       "      <th>Belgium</th>\n",
       "      <td>689</td>\n",
       "      <td>4</td>\n",
       "      <td>0.0058</td>\n",
       "      <td>1</td>\n",
       "      <td>0.0015</td>\n",
       "    </tr>\n",
       "    <tr>\n",
       "      <th>Austria</th>\n",
       "      <td>655</td>\n",
       "      <td>1</td>\n",
       "      <td>0.0015</td>\n",
       "      <td>6</td>\n",
       "      <td>0.0092</td>\n",
       "    </tr>\n",
       "    <tr>\n",
       "      <th>Qatar</th>\n",
       "      <td>337</td>\n",
       "      <td>0</td>\n",
       "      <td>0.0000</td>\n",
       "      <td>4</td>\n",
       "      <td>0.0119</td>\n",
       "    </tr>\n",
       "    <tr>\n",
       "      <th>Australia</th>\n",
       "      <td>250</td>\n",
       "      <td>3</td>\n",
       "      <td>0.0120</td>\n",
       "      <td>23</td>\n",
       "      <td>0.0920</td>\n",
       "    </tr>\n",
       "    <tr>\n",
       "      <th>Malaysia</th>\n",
       "      <td>238</td>\n",
       "      <td>0</td>\n",
       "      <td>0.0000</td>\n",
       "      <td>35</td>\n",
       "      <td>0.1471</td>\n",
       "    </tr>\n",
       "    <tr>\n",
       "      <th>Greece</th>\n",
       "      <td>228</td>\n",
       "      <td>3</td>\n",
       "      <td>0.0132</td>\n",
       "      <td>8</td>\n",
       "      <td>0.0351</td>\n",
       "    </tr>\n",
       "    <tr>\n",
       "      <th>Finland</th>\n",
       "      <td>225</td>\n",
       "      <td>0</td>\n",
       "      <td>0.0000</td>\n",
       "      <td>1</td>\n",
       "      <td>0.0044</td>\n",
       "    </tr>\n",
       "    <tr>\n",
       "      <th>Singapore</th>\n",
       "      <td>212</td>\n",
       "      <td>0</td>\n",
       "      <td>0.0000</td>\n",
       "      <td>105</td>\n",
       "      <td>0.4953</td>\n",
       "    </tr>\n",
       "    <tr>\n",
       "      <th>Bahrain</th>\n",
       "      <td>210</td>\n",
       "      <td>0</td>\n",
       "      <td>0.0000</td>\n",
       "      <td>44</td>\n",
       "      <td>0.2095</td>\n",
       "    </tr>\n",
       "    <tr>\n",
       "      <th>Canada</th>\n",
       "      <td>198</td>\n",
       "      <td>1</td>\n",
       "      <td>0.0051</td>\n",
       "      <td>8</td>\n",
       "      <td>0.0404</td>\n",
       "    </tr>\n",
       "    <tr>\n",
       "      <th>Israel</th>\n",
       "      <td>193</td>\n",
       "      <td>0</td>\n",
       "      <td>0.0000</td>\n",
       "      <td>4</td>\n",
       "      <td>0.0207</td>\n",
       "    </tr>\n",
       "    <tr>\n",
       "      <th>Czechia</th>\n",
       "      <td>189</td>\n",
       "      <td>0</td>\n",
       "      <td>0.0000</td>\n",
       "      <td>0</td>\n",
       "      <td>0.0000</td>\n",
       "    </tr>\n",
       "    <tr>\n",
       "      <th>Slovenia</th>\n",
       "      <td>181</td>\n",
       "      <td>1</td>\n",
       "      <td>0.0055</td>\n",
       "      <td>0</td>\n",
       "      <td>0.0000</td>\n",
       "    </tr>\n",
       "    <tr>\n",
       "      <th>Portugal</th>\n",
       "      <td>169</td>\n",
       "      <td>0</td>\n",
       "      <td>0.0000</td>\n",
       "      <td>2</td>\n",
       "      <td>0.0118</td>\n",
       "    </tr>\n",
       "    <tr>\n",
       "      <th>Iceland</th>\n",
       "      <td>156</td>\n",
       "      <td>0</td>\n",
       "      <td>0.0000</td>\n",
       "      <td>1</td>\n",
       "      <td>0.0064</td>\n",
       "    </tr>\n",
       "    <tr>\n",
       "      <th>Brazil</th>\n",
       "      <td>151</td>\n",
       "      <td>0</td>\n",
       "      <td>0.0000</td>\n",
       "      <td>0</td>\n",
       "      <td>0.0000</td>\n",
       "    </tr>\n",
       "    <tr>\n",
       "      <th>Ireland</th>\n",
       "      <td>129</td>\n",
       "      <td>2</td>\n",
       "      <td>0.0155</td>\n",
       "      <td>0</td>\n",
       "      <td>0.0000</td>\n",
       "    </tr>\n",
       "    <tr>\n",
       "      <th>Romania</th>\n",
       "      <td>123</td>\n",
       "      <td>0</td>\n",
       "      <td>0.0000</td>\n",
       "      <td>9</td>\n",
       "      <td>0.0732</td>\n",
       "    </tr>\n",
       "    <tr>\n",
       "      <th>Estonia</th>\n",
       "      <td>115</td>\n",
       "      <td>0</td>\n",
       "      <td>0.0000</td>\n",
       "      <td>0</td>\n",
       "      <td>0.0000</td>\n",
       "    </tr>\n",
       "    <tr>\n",
       "      <th>Philippines</th>\n",
       "      <td>111</td>\n",
       "      <td>8</td>\n",
       "      <td>0.0721</td>\n",
       "      <td>2</td>\n",
       "      <td>0.0180</td>\n",
       "    </tr>\n",
       "    <tr>\n",
       "      <th>Iraq</th>\n",
       "      <td>110</td>\n",
       "      <td>10</td>\n",
       "      <td>0.0909</td>\n",
       "      <td>26</td>\n",
       "      <td>0.2364</td>\n",
       "    </tr>\n",
       "    <tr>\n",
       "      <th>Egypt</th>\n",
       "      <td>109</td>\n",
       "      <td>2</td>\n",
       "      <td>0.0183</td>\n",
       "      <td>27</td>\n",
       "      <td>0.2477</td>\n",
       "    </tr>\n",
       "    <tr>\n",
       "      <th>Kuwait</th>\n",
       "      <td>104</td>\n",
       "      <td>0</td>\n",
       "      <td>0.0000</td>\n",
       "      <td>5</td>\n",
       "      <td>0.0481</td>\n",
       "    </tr>\n",
       "    <tr>\n",
       "      <th>Poland</th>\n",
       "      <td>103</td>\n",
       "      <td>3</td>\n",
       "      <td>0.0291</td>\n",
       "      <td>0</td>\n",
       "      <td>0.0000</td>\n",
       "    </tr>\n",
       "    <tr>\n",
       "      <th>Saudi Arabia</th>\n",
       "      <td>103</td>\n",
       "      <td>0</td>\n",
       "      <td>0.0000</td>\n",
       "      <td>1</td>\n",
       "      <td>0.0097</td>\n",
       "    </tr>\n",
       "    <tr>\n",
       "      <th>India</th>\n",
       "      <td>102</td>\n",
       "      <td>2</td>\n",
       "      <td>0.0196</td>\n",
       "      <td>4</td>\n",
       "      <td>0.0392</td>\n",
       "    </tr>\n",
       "    <tr>\n",
       "      <th>Indonesia</th>\n",
       "      <td>96</td>\n",
       "      <td>5</td>\n",
       "      <td>0.0521</td>\n",
       "      <td>8</td>\n",
       "      <td>0.0833</td>\n",
       "    </tr>\n",
       "    <tr>\n",
       "      <th>Lebanon</th>\n",
       "      <td>93</td>\n",
       "      <td>3</td>\n",
       "      <td>0.0323</td>\n",
       "      <td>1</td>\n",
       "      <td>0.0108</td>\n",
       "    </tr>\n",
       "    <tr>\n",
       "      <th>United Arab Emirates</th>\n",
       "      <td>85</td>\n",
       "      <td>0</td>\n",
       "      <td>0.0000</td>\n",
       "      <td>17</td>\n",
       "      <td>0.2000</td>\n",
       "    </tr>\n",
       "    <tr>\n",
       "      <th>Thailand</th>\n",
       "      <td>82</td>\n",
       "      <td>1</td>\n",
       "      <td>0.0122</td>\n",
       "      <td>35</td>\n",
       "      <td>0.4268</td>\n",
       "    </tr>\n",
       "    <tr>\n",
       "      <th>San Marino</th>\n",
       "      <td>80</td>\n",
       "      <td>5</td>\n",
       "      <td>0.0625</td>\n",
       "      <td>4</td>\n",
       "      <td>0.0500</td>\n",
       "    </tr>\n",
       "    <tr>\n",
       "      <th>Chile</th>\n",
       "      <td>61</td>\n",
       "      <td>0</td>\n",
       "      <td>0.0000</td>\n",
       "      <td>0</td>\n",
       "      <td>0.0000</td>\n",
       "    </tr>\n",
       "    <tr>\n",
       "      <th>Russia</th>\n",
       "      <td>59</td>\n",
       "      <td>0</td>\n",
       "      <td>0.0000</td>\n",
       "      <td>8</td>\n",
       "      <td>0.1356</td>\n",
       "    </tr>\n",
       "    <tr>\n",
       "      <th>Taiwan*</th>\n",
       "      <td>53</td>\n",
       "      <td>1</td>\n",
       "      <td>0.0189</td>\n",
       "      <td>20</td>\n",
       "      <td>0.3774</td>\n",
       "    </tr>\n",
       "  </tbody>\n",
       "</table>\n",
       "</div>"
      ],
      "text/plain": [
       "                      confirmed_count  death_count  death_rate  \\\n",
       "country                                                          \n",
       "China                           80977         3193      0.0394   \n",
       "Italy                           21157         1441      0.0681   \n",
       "Iran                            12729          611      0.0480   \n",
       "Korea, South                     8086           72      0.0089   \n",
       "Spain                            6391          195      0.0305   \n",
       "Germany                          4585            9      0.0020   \n",
       "France                           4480           91      0.0203   \n",
       "US                               2727           54      0.0198   \n",
       "Switzerland                      1359           13      0.0096   \n",
       "United Kingdom                   1143           21      0.0184   \n",
       "Norway                           1090            3      0.0028   \n",
       "Sweden                            961            2      0.0021   \n",
       "Netherlands                       959           12      0.0125   \n",
       "Denmark                           836            1      0.0012   \n",
       "Japan                             773           22      0.0285   \n",
       "Cruise Ship                       696            7      0.0101   \n",
       "Belgium                           689            4      0.0058   \n",
       "Austria                           655            1      0.0015   \n",
       "Qatar                             337            0      0.0000   \n",
       "Australia                         250            3      0.0120   \n",
       "Malaysia                          238            0      0.0000   \n",
       "Greece                            228            3      0.0132   \n",
       "Finland                           225            0      0.0000   \n",
       "Singapore                         212            0      0.0000   \n",
       "Bahrain                           210            0      0.0000   \n",
       "Canada                            198            1      0.0051   \n",
       "Israel                            193            0      0.0000   \n",
       "Czechia                           189            0      0.0000   \n",
       "Slovenia                          181            1      0.0055   \n",
       "Portugal                          169            0      0.0000   \n",
       "Iceland                           156            0      0.0000   \n",
       "Brazil                            151            0      0.0000   \n",
       "Ireland                           129            2      0.0155   \n",
       "Romania                           123            0      0.0000   \n",
       "Estonia                           115            0      0.0000   \n",
       "Philippines                       111            8      0.0721   \n",
       "Iraq                              110           10      0.0909   \n",
       "Egypt                             109            2      0.0183   \n",
       "Kuwait                            104            0      0.0000   \n",
       "Poland                            103            3      0.0291   \n",
       "Saudi Arabia                      103            0      0.0000   \n",
       "India                             102            2      0.0196   \n",
       "Indonesia                          96            5      0.0521   \n",
       "Lebanon                            93            3      0.0323   \n",
       "United Arab Emirates               85            0      0.0000   \n",
       "Thailand                           82            1      0.0122   \n",
       "San Marino                         80            5      0.0625   \n",
       "Chile                              61            0      0.0000   \n",
       "Russia                             59            0      0.0000   \n",
       "Taiwan*                            53            1      0.0189   \n",
       "\n",
       "                      recovered_count  recovered_rate  \n",
       "country                                                \n",
       "China                           65660          0.8108  \n",
       "Italy                            1966          0.0929  \n",
       "Iran                             2959          0.2325  \n",
       "Korea, South                      510          0.0631  \n",
       "Spain                             517          0.0809  \n",
       "Germany                            46          0.0100  \n",
       "France                             12          0.0027  \n",
       "US                                 12          0.0044  \n",
       "Switzerland                         4          0.0029  \n",
       "United Kingdom                     19          0.0166  \n",
       "Norway                              1          0.0009  \n",
       "Sweden                              1          0.0010  \n",
       "Netherlands                         2          0.0021  \n",
       "Denmark                             1          0.0012  \n",
       "Japan                             118          0.1527  \n",
       "Cruise Ship                       325          0.4670  \n",
       "Belgium                             1          0.0015  \n",
       "Austria                             6          0.0092  \n",
       "Qatar                               4          0.0119  \n",
       "Australia                          23          0.0920  \n",
       "Malaysia                           35          0.1471  \n",
       "Greece                              8          0.0351  \n",
       "Finland                             1          0.0044  \n",
       "Singapore                         105          0.4953  \n",
       "Bahrain                            44          0.2095  \n",
       "Canada                              8          0.0404  \n",
       "Israel                              4          0.0207  \n",
       "Czechia                             0          0.0000  \n",
       "Slovenia                            0          0.0000  \n",
       "Portugal                            2          0.0118  \n",
       "Iceland                             1          0.0064  \n",
       "Brazil                              0          0.0000  \n",
       "Ireland                             0          0.0000  \n",
       "Romania                             9          0.0732  \n",
       "Estonia                             0          0.0000  \n",
       "Philippines                         2          0.0180  \n",
       "Iraq                               26          0.2364  \n",
       "Egypt                              27          0.2477  \n",
       "Kuwait                              5          0.0481  \n",
       "Poland                              0          0.0000  \n",
       "Saudi Arabia                        1          0.0097  \n",
       "India                               4          0.0392  \n",
       "Indonesia                           8          0.0833  \n",
       "Lebanon                             1          0.0108  \n",
       "United Arab Emirates               17          0.2000  \n",
       "Thailand                           35          0.4268  \n",
       "San Marino                          4          0.0500  \n",
       "Chile                               0          0.0000  \n",
       "Russia                              8          0.1356  \n",
       "Taiwan*                            20          0.3774  "
      ]
     },
     "execution_count": 16,
     "metadata": {},
     "output_type": "execute_result"
    }
   ],
   "source": [
    "summary_df.sort_values('confirmed_count', ascending=False).head(50)"
   ]
  },
  {
   "cell_type": "code",
   "execution_count": 17,
   "metadata": {},
   "outputs": [
    {
     "data": {
      "text/plain": [
       "0.025221126760563376"
      ]
     },
     "execution_count": 17,
     "metadata": {},
     "output_type": "execute_result"
    }
   ],
   "source": [
    "summary_df.sort_values('confirmed_count', ascending=False)['death_rate'].mean()"
   ]
  },
  {
   "cell_type": "code",
   "execution_count": 18,
   "metadata": {},
   "outputs": [
    {
     "data": {
      "text/plain": [
       "0.0"
      ]
     },
     "execution_count": 18,
     "metadata": {},
     "output_type": "execute_result"
    }
   ],
   "source": [
    "summary_df.sort_values('confirmed_count', ascending=False)['death_rate'].median()"
   ]
  },
  {
   "cell_type": "code",
   "execution_count": 19,
   "metadata": {},
   "outputs": [
    {
     "data": {
      "text/plain": [
       "<matplotlib.axes._subplots.AxesSubplot at 0x22ff4911c48>"
      ]
     },
     "execution_count": 19,
     "metadata": {},
     "output_type": "execute_result"
    },
    {
     "data": {
      "image/png": "[encoded data removed]",
      "text/plain": [
       "<Figure size 432x288 with 1 Axes>"
      ]
     },
     "metadata": {
      "needs_background": "light"
     },
     "output_type": "display_data"
    }
   ],
   "source": [
    "sns.distplot(summary_df.sort_values('confirmed_count', ascending=False)[1:]['death_rate'])"
   ]
  },
  {
   "cell_type": "code",
   "execution_count": 20,
   "metadata": {},
   "outputs": [
    {
     "data": {
      "text/plain": [
       "<seaborn.axisgrid.FacetGrid at 0x22ff6509788>"
      ]
     },
     "execution_count": 20,
     "metadata": {},
     "output_type": "execute_result"
    },
    {
     "data": {
      "image/png": "[encoded data removed]",
      "text/plain": [
       "<Figure size 360x360 with 1 Axes>"
      ]
     },
     "metadata": {
      "needs_background": "light"
     },
     "output_type": "display_data"
    }
   ],
   "source": [
    "import seaborn as sns\n",
    "\n",
    "sns.lmplot(x='death_rate', y='confirmed_count', data=summary_df)"
   ]
  },
  {
   "cell_type": "code",
   "execution_count": 21,
   "metadata": {},
   "outputs": [
    {
     "data": {
      "text/plain": [
       "<seaborn.axisgrid.FacetGrid at 0x22ff6584048>"
      ]
     },
     "execution_count": 21,
     "metadata": {},
     "output_type": "execute_result"
    },
    {
     "data": {
      "image/png": "[encoded data removed]",
      "text/plain": [
       "<Figure size 360x360 with 1 Axes>"
      ]
     },
     "metadata": {
      "needs_background": "light"
     },
     "output_type": "display_data"
    }
   ],
   "source": [
    "sns.lmplot(x='death_rate', y='recovered_count', data=summary_df)"
   ]
  },
  {
   "cell_type": "code",
   "execution_count": 22,
   "metadata": {},
   "outputs": [
    {
     "data": {
      "text/html": [
       "<div>\n",
       "<style scoped>\n",
       "    .dataframe tbody tr th:only-of-type {\n",
       "        vertical-align: middle;\n",
       "    }\n",
       "\n",
       "    .dataframe tbody tr th {\n",
       "        vertical-align: top;\n",
       "    }\n",
       "\n",
       "    .dataframe thead th {\n",
       "        text-align: right;\n",
       "    }\n",
       "</style>\n",
       "<table border=\"1\" class=\"dataframe\">\n",
       "  <thead>\n",
       "    <tr style=\"text-align: right;\">\n",
       "      <th></th>\n",
       "      <th>confirmed_count</th>\n",
       "      <th>death_rate</th>\n",
       "      <th>recovered_rate</th>\n",
       "    </tr>\n",
       "  </thead>\n",
       "  <tbody>\n",
       "    <tr>\n",
       "      <th>confirmed_count</th>\n",
       "      <td>1.000000</td>\n",
       "      <td>0.015387</td>\n",
       "      <td>0.336880</td>\n",
       "    </tr>\n",
       "    <tr>\n",
       "      <th>death_rate</th>\n",
       "      <td>0.015387</td>\n",
       "      <td>1.000000</td>\n",
       "      <td>-0.032863</td>\n",
       "    </tr>\n",
       "    <tr>\n",
       "      <th>recovered_rate</th>\n",
       "      <td>0.336880</td>\n",
       "      <td>-0.032863</td>\n",
       "      <td>1.000000</td>\n",
       "    </tr>\n",
       "  </tbody>\n",
       "</table>\n",
       "</div>"
      ],
      "text/plain": [
       "                 confirmed_count  death_rate  recovered_rate\n",
       "confirmed_count         1.000000    0.015387        0.336880\n",
       "death_rate              0.015387    1.000000       -0.032863\n",
       "recovered_rate          0.336880   -0.032863        1.000000"
      ]
     },
     "execution_count": 22,
     "metadata": {},
     "output_type": "execute_result"
    }
   ],
   "source": [
    "summary_df[['confirmed_count', 'death_rate', 'recovered_rate']].corr() # very low correlation"
   ]
  },
  {
   "cell_type": "code",
   "execution_count": 23,
   "metadata": {},
   "outputs": [
    {
     "data": {
      "text/plain": [
       "<matplotlib.axes._subplots.AxesSubplot at 0x22ff654aa48>"
      ]
     },
     "execution_count": 23,
     "metadata": {},
     "output_type": "execute_result"
    },
    {
     "data": {
      "image/png": "[encoded data removed]",
      "text/plain": [
       "<Figure size 432x288 with 1 Axes>"
      ]
     },
     "metadata": {
      "needs_background": "light"
     },
     "output_type": "display_data"
    }
   ],
   "source": [
    "sns.distplot(summary_df['death_rate'], hist=False)"
   ]
  },
  {
   "cell_type": "code",
   "execution_count": 24,
   "metadata": {},
   "outputs": [
    {
     "data": {
      "text/plain": [
       "<matplotlib.axes._subplots.AxesSubplot at 0x22ff6ceac88>"
      ]
     },
     "execution_count": 24,
     "metadata": {},
     "output_type": "execute_result"
    },
    {
     "data": {
      "image/png": "[encoded data removed]",
      "text/plain": [
       "<Figure size 432x288 with 1 Axes>"
      ]
     },
     "metadata": {
      "needs_background": "light"
     },
     "output_type": "display_data"
    }
   ],
   "source": [
    "sns.distplot(summary_df['recovered_rate'], hist=False)"
   ]
  },
  {
   "cell_type": "code",
   "execution_count": 25,
   "metadata": {},
   "outputs": [
    {
     "data": {
      "text/plain": [
       "country\n",
       "Afghanistan                       0.0000\n",
       "Albania                           0.0263\n",
       "Algeria                           0.0811\n",
       "Andorra                           0.0000\n",
       "Antigua and Barbuda               0.0000\n",
       "                                   ...  \n",
       "United Kingdom                    0.0184\n",
       "Uruguay                           0.0000\n",
       "Venezuela                         0.0000\n",
       "Vietnam                           0.0000\n",
       "occupied Palestinian territory       NaN\n",
       "Name: death_rate, Length: 143, dtype: float64"
      ]
     },
     "execution_count": 25,
     "metadata": {},
     "output_type": "execute_result"
    }
   ],
   "source": [
    "summary_df['death_rate']"
   ]
  },
  {
   "cell_type": "code",
   "execution_count": 26,
   "metadata": {},
   "outputs": [
    {
     "data": {
      "text/plain": [
       "confirmed_count    2727.0000\n",
       "death_count          54.0000\n",
       "death_rate            0.0198\n",
       "recovered_count      12.0000\n",
       "recovered_rate        0.0044\n",
       "Name: US, dtype: float64"
      ]
     },
     "execution_count": 26,
     "metadata": {},
     "output_type": "execute_result"
    }
   ],
   "source": [
    "summary_df.loc['US']"
   ]
  },
  {
   "cell_type": "code",
   "execution_count": null,
   "metadata": {},
   "outputs": [],
   "source": []
  },
  {
   "cell_type": "code",
   "execution_count": null,
   "metadata": {},
   "outputs": [],
   "source": []
  }
 ],
 "metadata": {
  "kernelspec": {
   "display_name": "Python 3",
   "language": "python",
   "name": "python3"
  },
  "language_info": {
   "codemirror_mode": {
    "name": "ipython",
    "version": 3
   },
   "file_extension": ".py",
   "mimetype": "text/x-python",
   "name": "python",
   "nbconvert_exporter": "python",
   "pygments_lexer": "ipython3",
   "version": "3.7.6"
  }
 },
 "nbformat": 4,
 "nbformat_minor": 4
}
